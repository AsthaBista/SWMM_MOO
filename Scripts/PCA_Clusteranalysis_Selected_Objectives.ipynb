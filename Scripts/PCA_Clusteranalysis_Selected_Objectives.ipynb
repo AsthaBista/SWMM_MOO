{
 "cells": [
  {
   "cell_type": "markdown",
   "id": "feaee827-6724-44d5-9fa5-ebc8f5e5afd3",
   "metadata": {},
   "source": [
    "This notebook presents an analysis of quantifies objectives from Monte Carlo simulations. Initially there are 19 objectives. After a quick correlation analysis, six were chosen for a deeper analysis using PCA and cluster analysis.\n",
    "First a initial visualization of data is necessary."
   ]
  },
  {
   "attachments": {},
   "cell_type": "markdown",
   "id": "63f51144-d994-4e77-be48-205b235ad08f",
   "metadata": {},
   "source": [
    "This notebook presents an analysis of quantifies objectives from Monte Carlo simulations. Initially there are 19 objectives. After a quick correlation analysis, six were chosen for a deeper analysis using PCA and cluster analysis. First a initial visualization of data is necessary."
   ]
  },
  {
   "cell_type": "markdown",
   "id": "8adab2c5-d87e-4259-95f3-48e30ea66225",
   "metadata": {},
   "source": [
    "**Visualization of Objectives Data**"
   ]
  },
  {
   "cell_type": "code",
   "execution_count": 6,
   "id": "a7821d15-6fde-451e-abab-49038ec10dda",
   "metadata": {},
   "outputs": [],
   "source": [
    "# First setting the environment:\n",
    "setwd(\"C:/Users/ABI/OneDrive - NIVA/Documents/GitHub/SWMM_MOO/10_Analysis\")"
   ]
  },
  {
   "cell_type": "code",
   "execution_count": 7,
   "id": "1cc8ad68-30a5-4621-81b6-a0f1daced74d",
   "metadata": {},
   "outputs": [],
   "source": [
    "# List of required packages\n",
    "packages <- c(\"GGally\", \"ggplot2\")\n",
    "\n",
    "# Install only if not already installed\n",
    "for (pkg in packages) {\n",
    "  if (!require(pkg, character.only = TRUE)) {\n",
    "    install.packages(pkg)\n",
    "  }\n",
    "}\n",
    "\n",
    "# Now load the libraries\n",
    "library(GGally)\n",
    "library(ggplot2);"
   ]
  },
  {
   "cell_type": "markdown",
   "id": "4761dcac-1b31-4804-84c8-3a911eea75ce",
   "metadata": {},
   "source": [
    "Loading the data, which consists of columns with value of objectives for 150 different LID scenarios."
   ]
  },
  {
   "cell_type": "code",
   "execution_count": 8,
   "id": "5d5cf243-b47c-40e7-9227-d389056b87e4",
   "metadata": {},
   "outputs": [
    {
     "data": {
      "text/html": [
       "<table class=\"dataframe\">\n",
       "<caption>A data.frame: 6 × 6</caption>\n",
       "<thead>\n",
       "\t<tr><th></th><th scope=col>PR20</th><th scope=col>TR</th><th scope=col>BGF</th><th scope=col>Inv</th><th scope=col>UNA</th><th scope=col>TSS</th></tr>\n",
       "\t<tr><th></th><th scope=col>&lt;dbl&gt;</th><th scope=col>&lt;dbl&gt;</th><th scope=col>&lt;dbl&gt;</th><th scope=col>&lt;dbl&gt;</th><th scope=col>&lt;dbl&gt;</th><th scope=col>&lt;dbl&gt;</th></tr>\n",
       "</thead>\n",
       "<tbody>\n",
       "\t<tr><th scope=row>2</th><td>0.28</td><td>0.59</td><td>0.45</td><td>2275334</td><td>105.34262</td><td>0.83</td></tr>\n",
       "\t<tr><th scope=row>3</th><td>0.36</td><td>0.36</td><td>0.22</td><td>1386334</td><td> 82.74209</td><td>0.71</td></tr>\n",
       "\t<tr><th scope=row>4</th><td>0.23</td><td>0.44</td><td>0.24</td><td>2046028</td><td> 73.21624</td><td>0.45</td></tr>\n",
       "\t<tr><th scope=row>5</th><td>0.33</td><td>0.40</td><td>0.42</td><td>2113380</td><td> 98.28420</td><td>0.96</td></tr>\n",
       "\t<tr><th scope=row>6</th><td>0.31</td><td>0.58</td><td>0.31</td><td>1336551</td><td>107.20157</td><td>0.69</td></tr>\n",
       "\t<tr><th scope=row>7</th><td>0.38</td><td>0.29</td><td>0.25</td><td>1394792</td><td> 78.25295</td><td>0.73</td></tr>\n",
       "</tbody>\n",
       "</table>\n"
      ],
      "text/latex": [
       "A data.frame: 6 × 6\n",
       "\\begin{tabular}{r|llllll}\n",
       "  & PR20 & TR & BGF & Inv & UNA & TSS\\\\\n",
       "  & <dbl> & <dbl> & <dbl> & <dbl> & <dbl> & <dbl>\\\\\n",
       "\\hline\n",
       "\t2 & 0.28 & 0.59 & 0.45 & 2275334 & 105.34262 & 0.83\\\\\n",
       "\t3 & 0.36 & 0.36 & 0.22 & 1386334 &  82.74209 & 0.71\\\\\n",
       "\t4 & 0.23 & 0.44 & 0.24 & 2046028 &  73.21624 & 0.45\\\\\n",
       "\t5 & 0.33 & 0.40 & 0.42 & 2113380 &  98.28420 & 0.96\\\\\n",
       "\t6 & 0.31 & 0.58 & 0.31 & 1336551 & 107.20157 & 0.69\\\\\n",
       "\t7 & 0.38 & 0.29 & 0.25 & 1394792 &  78.25295 & 0.73\\\\\n",
       "\\end{tabular}\n"
      ],
      "text/markdown": [
       "\n",
       "A data.frame: 6 × 6\n",
       "\n",
       "| <!--/--> | PR20 &lt;dbl&gt; | TR &lt;dbl&gt; | BGF &lt;dbl&gt; | Inv &lt;dbl&gt; | UNA &lt;dbl&gt; | TSS &lt;dbl&gt; |\n",
       "|---|---|---|---|---|---|---|\n",
       "| 2 | 0.28 | 0.59 | 0.45 | 2275334 | 105.34262 | 0.83 |\n",
       "| 3 | 0.36 | 0.36 | 0.22 | 1386334 |  82.74209 | 0.71 |\n",
       "| 4 | 0.23 | 0.44 | 0.24 | 2046028 |  73.21624 | 0.45 |\n",
       "| 5 | 0.33 | 0.40 | 0.42 | 2113380 |  98.28420 | 0.96 |\n",
       "| 6 | 0.31 | 0.58 | 0.31 | 1336551 | 107.20157 | 0.69 |\n",
       "| 7 | 0.38 | 0.29 | 0.25 | 1394792 |  78.25295 | 0.73 |\n",
       "\n"
      ],
      "text/plain": [
       "  PR20 TR   BGF  Inv     UNA       TSS \n",
       "2 0.28 0.59 0.45 2275334 105.34262 0.83\n",
       "3 0.36 0.36 0.22 1386334  82.74209 0.71\n",
       "4 0.23 0.44 0.24 2046028  73.21624 0.45\n",
       "5 0.33 0.40 0.42 2113380  98.28420 0.96\n",
       "6 0.31 0.58 0.31 1336551 107.20157 0.69\n",
       "7 0.38 0.29 0.25 1394792  78.25295 0.73"
      ]
     },
     "metadata": {},
     "output_type": "display_data"
    }
   ],
   "source": [
    "# 1. Read the data from csv file\n",
    "my_data <- read.csv(\"1000_Selected_Objectives.csv\", sep=\";\")\n",
    "\n",
    "\n",
    "# 2. Remove the first row (all zeros)\n",
    "my_data <- my_data[-1,]\n",
    "head(my_data)"
   ]
  },
  {
   "cell_type": "code",
   "execution_count": 9,
   "id": "170887e4-4a24-4e6c-92a2-d8a1b4972067",
   "metadata": {},
   "outputs": [],
   "source": [
    "# 3. Convert all columns to numeric to ensure proper scaling\n",
    "my_data[] <- lapply(my_data, as.numeric)\n",
    "\n",
    "# 4. Scale the data for easier interpretation (Z-score normalization)\n",
    "# This centers each column (mean = 0) and scales it (standard deviation = 1)\n",
    "my_data_scaled <- as.data.frame(scale(my_data))\n",
    "\n",
    "# 5. Keep the original column names for clear labeling\n",
    "colnames(my_data_scaled) <- colnames(my_data)"
   ]
  },
  {
   "cell_type": "markdown",
   "id": "f00b9aa5-292a-44fd-9f35-5d7f4b9fae54",
   "metadata": {},
   "source": [
    "For an initial analysis, visuaizing how the objectives are correlated to each other can be useful"
   ]
  },
  {
   "cell_type": "code",
   "execution_count": null,
   "id": "dd54f71a-2986-449f-8f40-224bc19989bf",
   "metadata": {},
   "outputs": [],
   "source": [
    "# 7. Create the Scatterplot Matrix with SCALED data\n",
    "plot_matrix_scale1 <- ggpairs(\n",
    "  data = my_data_scaled, \n",
    "  title = \"Scatterplot Matrix (Standardized Data - Z-scores)\",\n",
    "  axisLabels = \"show\",\n",
    "  progress = FALSE,\n",
    "  upper = list(\n",
    "    continuous = wrap(\"cor\",\n",
    "                     method = \"pearson\",\n",
    "                     size = 4,\n",
    "                     color = \"blue\") # Fixed typo: was displayAA\n",
    "  ),\n",
    "  lower = list(\n",
    "    continuous = wrap(\"points\",\n",
    "                     alpha = 0.6,\n",
    "                     size = 1.5,\n",
    "                     color = \"red\") # Changed to a valid color\n",
    "  ),\n",
    "  diag = list(\n",
    "    continuous = wrap(\"densityDiag\", # Note: Capital 'D' in densityDiag\n",
    "                     alpha = 0.7,\n",
    "                     color = \"green\") # Changed to a valid color\n",
    "  )\n",
    ") + # The plus sign adds the theme\n",
    "theme_bw() + # Fixed typo: was theme_bm()\n",
    "theme(plot.title = element_text(hjust = 0.5, face = \"bold\")) # Fixed typo: was fjust\n",
    "\n",
    "# 8. Print the plot\n",
    "print(plot_matrix_scale1)\n"
   ]
  },
  {
   "cell_type": "code",
   "execution_count": null,
   "id": "deef4774-7a80-4fc1-9cd0-1f856cae9981",
   "metadata": {},
   "outputs": [],
   "source": []
  }
 ],
 "metadata": {
  "kernelspec": {
   "display_name": "R",
   "language": "R",
   "name": "ir"
  },
  "language_info": {
   "codemirror_mode": "r",
   "file_extension": ".r",
   "mimetype": "text/x-r-source",
   "name": "R",
   "pygments_lexer": "r",
   "version": "4.4.3"
  }
 },
 "nbformat": 4,
 "nbformat_minor": 5
}
