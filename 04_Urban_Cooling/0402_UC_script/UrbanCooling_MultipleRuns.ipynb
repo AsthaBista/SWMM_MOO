{
 "cells": [
  {
   "cell_type": "markdown",
   "metadata": {},
   "source": [
    "# Monte Carlo simulations for Urban Cooling"
   ]
  },
  {
   "cell_type": "markdown",
   "metadata": {},
   "source": [
    "**Preparation of the data for the base scenario**"
   ]
  },
  {
   "cell_type": "code",
   "execution_count": 4,
   "metadata": {},
   "outputs": [],
   "source": [
    "import arcpy\n",
    "import pandas as pd\n",
    "from arcpy.sa import *\n",
    "arcpy.env.overwriteOutput = True"
   ]
  },
  {
   "cell_type": "code",
   "execution_count": 5,
   "metadata": {},
   "outputs": [
    {
     "data": {
      "text/plain": [
       "'CheckedOut'"
      ]
     },
     "execution_count": 5,
     "metadata": {},
     "output_type": "execute_result"
    }
   ],
   "source": [
    "# Spatial Analyst availability\n",
    "arcpy.CheckOutExtension(\"Spatial\")"
   ]
  },
  {
   "cell_type": "code",
   "execution_count": 6,
   "metadata": {
    "scrolled": false
   },
   "outputs": [
    {
     "name": "stdout",
     "output_type": "stream",
     "text": [
      "   lucode     Kc  green_area  shade  albedo\n",
      "0       1  0.200           0      0    0.17\n",
      "1       3  0.001           0      0    0.14\n",
      "2       6  0.800           1      0    0.16\n",
      "3       7  1.000           1      1    0.20\n",
      "4       9  0.001           0      0    0.14\n",
      "5      15  0.001           0      0    0.20\n",
      "6      16  0.001           0      0    0.25\n"
     ]
    }
   ],
   "source": [
    "biophysical_table = pd.read_csv(\n",
    "    r'C:\\Users\\ABI\\OneDrive - NIVA\\Documents\\GitHub\\SWMM_MOO\\04_Urban_Cooling\\0401_UC_Input_Files\\BiophysicalTable.csv', sep =';')\n",
    "print(biophysical_table)"
   ]
  },
  {
   "cell_type": "code",
   "execution_count": 11,
   "metadata": {},
   "outputs": [],
   "source": [
    "## Now we want to simplify this biophysical table by combining bare land(1), Other paved (3), \n",
    "## and Paved road (9) into one entity called 'Imp' for impervious surfaces\n",
    "landuse_clip = Raster(r\"C:\\Users\\ABI\\OneDrive - NIVA\\Documents\\GitHub\\SWMM_MOO\\GIS_Input_Files\\LorenGIS.gdb\\landuse_clip\")\n",
    "\n",
    "\n",
    "# Define your mapping: original -> new class code\n",
    "remap = RemapValue([\n",
    "    (1, 1),   # IMP - Impervious surfaces\n",
    "    (3, 1),   # IMP\n",
    "    (9, 1),   # IMP\n",
    "    (15, 1),  # IMP\n",
    "    (6, 2),   # SVEG - Shallow vegetation\n",
    "    (7, 3),   # DVEG - Deep vegetation\n",
    "    (16, 4)   # BLDG - Building\n",
    "])\n",
    "\n",
    "# Apply reclassification\n",
    "reclass_raster = Reclassify(\"landuse_clip\", \"Value\", remap)\n",
    "\n",
    "# Optional: Save it\n",
    "reclass_raster.save(r\"C:\\Users\\ABI\\OneDrive - NIVA\\Documents\\GitHub\\SWMM_MOO\\GIS_Input_Files\\LorenGIS.gdb\\landuse_reclass\")"
   ]
  },
  {
   "cell_type": "code",
   "execution_count": 12,
   "metadata": {},
   "outputs": [
    {
     "name": "stdout",
     "output_type": "stream",
     "text": [
      "  lu_name     Kc  green_area  shade  albedo\n",
      "0     IMP  0.001           0      0    0.14\n",
      "1    SVEG  0.800           1      0    0.16\n",
      "2    DVEG  1.000           1      1    0.20\n",
      "3    BLDG  0.001           0      0    0.25\n"
     ]
    }
   ],
   "source": [
    "new_biophysical_table = {\n",
    "    'lu_name': ['IMP','SVEG','DVEG','BLDG'],\n",
    "    'Kc':     [0.001, 0.8, 1, 0.001],\n",
    "    'green_area': [0, 1, 1, 0],\n",
    "    'shade':      [0, 0, 1, 0],\n",
    "    'albedo':     [0.14, 0.16, 0.2, 0.25]\n",
    "}\n",
    "df_bio = pd.DataFrame(new_biophysical_table)\n",
    "print(df_bio)"
   ]
  },
  {
   "cell_type": "code",
   "execution_count": 13,
   "metadata": {},
   "outputs": [
    {
     "name": "stdout",
     "output_type": "stream",
     "text": [
      "  lu_name     Kc  green_area  shade  albedo\n",
      "0     IMP  0.001           0      0    0.14\n",
      "1    SVEG  0.800           1      0    0.16\n",
      "2    DVEG  1.000           1      1    0.20\n",
      "3    BLDG  0.001           0      0    0.25\n",
      "4     GR5  0.500           1      0    0.16\n",
      "5    GR20  0.600           1      0    0.16\n",
      "6      BC  0.900           1      0    0.16\n",
      "7      GS  0.800           1      0    0.16\n",
      "8     TRE  0.900           1      1    0.20\n"
     ]
    }
   ],
   "source": [
    "# Create new rows for the LIDs\n",
    "new_rows = pd.DataFrame([\n",
    "    {\n",
    "        'lu_name': 'GR5',\n",
    "        'Kc': 0.5,         # assumed value for sedum\n",
    "        'green_area': 1,\n",
    "        'shade': 0,\n",
    "        'albedo': 0.16\n",
    "    },\n",
    "    {\n",
    "        'lu_name': 'GR20',\n",
    "        'Kc': 0.6,         #assumed a bit higher \n",
    "        'green_area': 1,\n",
    "        'shade': 0,\n",
    "        'albedo': 0.16\n",
    "    },\n",
    "    {\n",
    "        'lu_name': 'BC',\n",
    "        'Kc': 0.9,         \n",
    "        'green_area': 1,\n",
    "        'shade': 0,\n",
    "        'albedo': 0.16\n",
    "    },\n",
    "    {\n",
    "        'lu_name': 'GS',\n",
    "        'Kc': 0.8,          \n",
    "        'green_area': 1,\n",
    "        'shade': 0,\n",
    "        'albedo': 0.16\n",
    "    },\n",
    "    {\n",
    "        'lu_name': 'TRE',\n",
    "        'Kc': 0.9,          \n",
    "        'green_area': 1,\n",
    "        'shade': 1,\n",
    "        'albedo': 0.2\n",
    "    }\n",
    "])\n",
    "\n",
    "# Add to original DataFrame\n",
    "df_bio = pd.concat([df_bio, new_rows], ignore_index=True)\n",
    "df_bio.to_csv(r'C:\\Users\\ABI\\OneDrive - NIVA\\Documents\\GitHub\\SWMM_MOO\\04_Urban_Cooling\\0401_UC_Input_Files\\biophysicaltable_lid_added.csv',sep=';')\n",
    "# Check result\n",
    "print(df_bio)"
   ]
  },
  {
   "cell_type": "code",
   "execution_count": 16,
   "metadata": {},
   "outputs": [
    {
     "data": {
      "text/plain": [
       "(<geoprocessing server result object object at 0x000001A8659E7990>,)"
      ]
     },
     "execution_count": 16,
     "metadata": {},
     "output_type": "execute_result"
    }
   ],
   "source": [
    "## Determining the area of each landuse in each subcatchment\n",
    "subcatchments = r\"C:\\Users\\ABI\\OneDrive - NIVA\\Documents\\GitHub\\SWMM_MOO\\GIS_Input_Files\\Shapefiles\\subcatchments_bdry.shp\"\n",
    "lu_reclass = r\"C:\\Users\\ABI\\OneDrive - NIVA\\Documents\\GitHub\\SWMM_MOO\\GIS_Input_Files\\LorenGIS.gdb\\landuse_reclass\"\n",
    "out_table = r\"C:\\Users\\ABI\\OneDrive - NIVA\\Documents\\GitHub\\SWMM_MOO\\GIS_Input_Files\\Shapefiles\\tabulate_subctmt_lu_area.dbf\"\n",
    "TabulateArea(\n",
    "    in_zone_data=subcatchments,\n",
    "    zone_field='SID',\n",
    "    in_class_data=lu_reclass,\n",
    "    class_field='Value',\n",
    "    out_table=out_table,\n",
    "    processing_cell_size=lu_reclass  # match cell size and alignment\n",
    "),"
   ]
  },
  {
   "cell_type": "code",
   "execution_count": 17,
   "metadata": {},
   "outputs": [
    {
     "name": "stdout",
     "output_type": "stream",
     "text": [
      "    SID  VALUE_1  VALUE_2  VALUE_3  VALUE_4\n",
      "0    S1      0.0      0.0      0.0    938.0\n",
      "1    S2      0.0      0.0      0.0    494.0\n",
      "2    S3      0.0      0.0      0.0    505.0\n",
      "3    S4      0.0      0.0      0.0    921.0\n",
      "4    S5    259.0     62.0     19.0      0.0\n",
      "5    S6    118.0    770.0    227.0      0.0\n",
      "6    S7    261.0     17.0      0.0      0.0\n",
      "7    S8    375.0     14.0     20.0      0.0\n",
      "8    S9    395.0     16.0     11.0      0.0\n",
      "9   S10    376.0     68.0      0.0      0.0\n",
      "10  S11    371.0      9.0     12.0      0.0\n"
     ]
    },
    {
     "data": {
      "text/plain": [
       "(None,)"
      ]
     },
     "execution_count": 17,
     "metadata": {},
     "output_type": "execute_result"
    }
   ],
   "source": [
    "## Since there were some discrepancies in areas in between different landuse due to pixel misalignment\n",
    "## they had to be manually edited. For example some parts of roof pixels were on the pixels in a terrain subcatchment.\n",
    "## These were manualy edited and put in a new table, and input into the code. \n",
    "\n",
    "new_table = r\"C:\\Users\\ABI\\OneDrive - NIVA\\Documents\\GitHub\\SWMM_MOO\\GIS_Input_Files\\Shapefiles\\tabulate_subctmt_lu_area_manualedits.dbf\"\n",
    "from dbfread import DBF\n",
    "import pandas as pd\n",
    "\n",
    "# Read DBF into a DataFrame\n",
    "table = DBF(new_table)\n",
    "lu_sub_area = pd.DataFrame(iter(table))\n",
    "print(lu_sub_area),"
   ]
  },
  {
   "cell_type": "code",
   "execution_count": 18,
   "metadata": {},
   "outputs": [
    {
     "name": "stdout",
     "output_type": "stream",
     "text": [
      "    SID  VALUE_1  VALUE_2  VALUE_3  VALUE_4\n",
      "0    S1      0.0      0.0      0.0    938.0\n",
      "1    S2      0.0      0.0      0.0    494.0\n",
      "2    S3      0.0      0.0      0.0    505.0\n",
      "3    S4      0.0      0.0      0.0    921.0\n",
      "4    S5    259.0     62.0     19.0      0.0\n",
      "5    S6    118.0    770.0    227.0      0.0\n",
      "6    S7    261.0     17.0      0.0      0.0\n",
      "7    S8    375.0     14.0     20.0      0.0\n",
      "8    S9    395.0     16.0     11.0      0.0\n",
      "9   S10    376.0     68.0      0.0      0.0\n",
      "10  S11    371.0      9.0     12.0      0.0\n",
      "  lu_name     Kc  green_area  shade  albedo\n",
      "0     IMP  0.001           0      0    0.14\n",
      "1    SVEG  0.800           1      0    0.16\n",
      "2    DVEG  1.000           1      1    0.20\n",
      "3    BLDG  0.001           0      0    0.25\n",
      "4     GR5  0.500           1      0    0.16\n",
      "5    GR20  0.600           1      0    0.16\n",
      "6      BC  0.900           1      0    0.16\n",
      "7      GS  0.800           1      0    0.16\n",
      "8     TRE  0.900           1      1    0.20\n"
     ]
    }
   ],
   "source": [
    "## There are now two importable tables necessary for calculating Cooling capacity index (CC)\n",
    "## Let's bring them into the code again.\n",
    "\n",
    "print(lu_sub_area)     #consists area of landuse per subcatchment\n",
    "print(df_bio)    # Biophysical table\n",
    "\n"
   ]
  },
  {
   "cell_type": "code",
   "execution_count": 19,
   "metadata": {},
   "outputs": [
    {
     "name": "stdout",
     "output_type": "stream",
     "text": [
      "  SID  Lu_code   Area\n",
      "0  S1        1    0.0\n",
      "1  S2        1    0.0\n",
      "2  S3        1    0.0\n",
      "3  S4        1    0.0\n",
      "4  S5        1  259.0\n"
     ]
    }
   ],
   "source": [
    "## Reshaping lu_sub_area into a long table with separate column for area\n",
    "lu_long = pd.melt(\n",
    "    lu_sub_area,\n",
    "    id_vars='SID',\n",
    "    value_vars= ['VALUE_1', 'VALUE_2', 'VALUE_3', 'VALUE_4'],\n",
    "    var_name='Lu_code',\n",
    "    value_name='Area'\n",
    ")\n",
    "lu_long['Lu_code'] = lu_long['Lu_code'].str.replace('VALUE_', '').astype(int)\n",
    "print(lu_long.head())"
   ]
  },
  {
   "cell_type": "code",
   "execution_count": 20,
   "metadata": {},
   "outputs": [
    {
     "name": "stdout",
     "output_type": "stream",
     "text": [
      "  SID  Lu_code   Area lu_name\n",
      "0  S1        1    0.0     IMP\n",
      "1  S2        1    0.0     IMP\n",
      "2  S3        1    0.0     IMP\n",
      "3  S4        1    0.0     IMP\n",
      "4  S5        1  259.0     IMP\n"
     ]
    },
    {
     "data": {
      "text/plain": [
       "(None,)"
      ]
     },
     "execution_count": 20,
     "metadata": {},
     "output_type": "execute_result"
    }
   ],
   "source": [
    "## Change the codes in the table lu_long to text classes\n",
    "# Example mapping from Lu_code to lu_name\n",
    "lucode_map = {\n",
    "    1: 'IMP',\n",
    "    2: 'SVEG',\n",
    "    3: 'DVEG',\n",
    "    4: 'BLDG'\n",
    "}\n",
    "\n",
    "# Apply mapping\n",
    "lu_long['lu_name'] = lu_long['Lu_code'].map(lucode_map)\n",
    "print(lu_long.head()),"
   ]
  },
  {
   "cell_type": "code",
   "execution_count": 21,
   "metadata": {},
   "outputs": [
    {
     "name": "stdout",
     "output_type": "stream",
     "text": [
      "    SID  Lu_code   Area lu_name     Kc  green_area  shade  albedo\n",
      "0    S1        1    0.0     IMP  0.001           0      0    0.14\n",
      "1    S2        1    0.0     IMP  0.001           0      0    0.14\n",
      "2    S3        1    0.0     IMP  0.001           0      0    0.14\n",
      "3    S4        1    0.0     IMP  0.001           0      0    0.14\n",
      "4    S5        1  259.0     IMP  0.001           0      0    0.14\n",
      "5    S6        1  118.0     IMP  0.001           0      0    0.14\n",
      "6    S7        1  261.0     IMP  0.001           0      0    0.14\n",
      "7    S8        1  375.0     IMP  0.001           0      0    0.14\n",
      "8    S9        1  395.0     IMP  0.001           0      0    0.14\n",
      "9   S10        1  376.0     IMP  0.001           0      0    0.14\n",
      "10  S11        1  371.0     IMP  0.001           0      0    0.14\n",
      "11   S1        2    0.0    SVEG  0.800           1      0    0.16\n",
      "12   S2        2    0.0    SVEG  0.800           1      0    0.16\n",
      "13   S3        2    0.0    SVEG  0.800           1      0    0.16\n",
      "14   S4        2    0.0    SVEG  0.800           1      0    0.16\n",
      "15   S5        2   62.0    SVEG  0.800           1      0    0.16\n",
      "16   S6        2  770.0    SVEG  0.800           1      0    0.16\n",
      "17   S7        2   17.0    SVEG  0.800           1      0    0.16\n",
      "18   S8        2   14.0    SVEG  0.800           1      0    0.16\n",
      "19   S9        2   16.0    SVEG  0.800           1      0    0.16\n"
     ]
    }
   ],
   "source": [
    "## Combine subcatchment area data with biophysical table - lu_long with df_bio\n",
    "df_merged = pd.merge(lu_long, df_bio, on='lu_name')\n",
    "print(df_merged.head(20))"
   ]
  },
  {
   "cell_type": "code",
   "execution_count": 22,
   "metadata": {},
   "outputs": [
    {
     "name": "stdout",
     "output_type": "stream",
     "text": [
      "    SID  Lu_code   Area lu_name  ...  shade  albedo      CC     T_air\n",
      "0    S1        1    0.0     IMP  ...      0    0.14  0.0282  25.70065\n",
      "1    S2        1    0.0     IMP  ...      0    0.14  0.0282  25.70065\n",
      "2    S3        1    0.0     IMP  ...      0    0.14  0.0282  25.70065\n",
      "3    S4        1    0.0     IMP  ...      0    0.14  0.0282  25.70065\n",
      "4    S5        1  259.0     IMP  ...      0    0.14  0.0282  25.70065\n",
      "5    S6        1  118.0     IMP  ...      0    0.14  0.0282  25.70065\n",
      "6    S7        1  261.0     IMP  ...      0    0.14  0.0282  25.70065\n",
      "7    S8        1  375.0     IMP  ...      0    0.14  0.0282  25.70065\n",
      "8    S9        1  395.0     IMP  ...      0    0.14  0.0282  25.70065\n",
      "9   S10        1  376.0     IMP  ...      0    0.14  0.0282  25.70065\n",
      "10  S11        1  371.0     IMP  ...      0    0.14  0.0282  25.70065\n",
      "11   S1        2    0.0    SVEG  ...      0    0.16  0.1920  25.41400\n",
      "12   S2        2    0.0    SVEG  ...      0    0.16  0.1920  25.41400\n",
      "13   S3        2    0.0    SVEG  ...      0    0.16  0.1920  25.41400\n",
      "14   S4        2    0.0    SVEG  ...      0    0.16  0.1920  25.41400\n",
      "15   S5        2   62.0    SVEG  ...      0    0.16  0.1920  25.41400\n",
      "16   S6        2  770.0    SVEG  ...      0    0.16  0.1920  25.41400\n",
      "17   S7        2   17.0    SVEG  ...      0    0.16  0.1920  25.41400\n",
      "18   S8        2   14.0    SVEG  ...      0    0.16  0.1920  25.41400\n",
      "19   S9        2   16.0    SVEG  ...      0    0.16  0.1920  25.41400\n",
      "20  S10        2   68.0    SVEG  ...      0    0.16  0.1920  25.41400\n",
      "21  S11        2    9.0    SVEG  ...      0    0.16  0.1920  25.41400\n",
      "22   S1        3    0.0    DVEG  ...      1    0.20  0.8400  24.28000\n",
      "23   S2        3    0.0    DVEG  ...      1    0.20  0.8400  24.28000\n",
      "24   S3        3    0.0    DVEG  ...      1    0.20  0.8400  24.28000\n",
      "25   S4        3    0.0    DVEG  ...      1    0.20  0.8400  24.28000\n",
      "26   S5        3   19.0    DVEG  ...      1    0.20  0.8400  24.28000\n",
      "27   S6        3  227.0    DVEG  ...      1    0.20  0.8400  24.28000\n",
      "28   S7        3    0.0    DVEG  ...      1    0.20  0.8400  24.28000\n",
      "29   S8        3   20.0    DVEG  ...      1    0.20  0.8400  24.28000\n",
      "30   S9        3   11.0    DVEG  ...      1    0.20  0.8400  24.28000\n",
      "31  S10        3    0.0    DVEG  ...      1    0.20  0.8400  24.28000\n",
      "32  S11        3   12.0    DVEG  ...      1    0.20  0.8400  24.28000\n",
      "33   S1        4  938.0    BLDG  ...      0    0.25  0.0502  25.66215\n",
      "34   S2        4  494.0    BLDG  ...      0    0.25  0.0502  25.66215\n",
      "35   S3        4  505.0    BLDG  ...      0    0.25  0.0502  25.66215\n",
      "36   S4        4  921.0    BLDG  ...      0    0.25  0.0502  25.66215\n",
      "37   S5        4    0.0    BLDG  ...      0    0.25  0.0502  25.66215\n",
      "38   S6        4    0.0    BLDG  ...      0    0.25  0.0502  25.66215\n",
      "39   S7        4    0.0    BLDG  ...      0    0.25  0.0502  25.66215\n",
      "40   S8        4    0.0    BLDG  ...      0    0.25  0.0502  25.66215\n",
      "41   S9        4    0.0    BLDG  ...      0    0.25  0.0502  25.66215\n",
      "42  S10        4    0.0    BLDG  ...      0    0.25  0.0502  25.66215\n",
      "43  S11        4    0.0    BLDG  ...      0    0.25  0.0502  25.66215\n",
      "\n",
      "[44 rows x 10 columns]\n"
     ]
    }
   ],
   "source": [
    "## Create a column for cooling capacity index (CC) that uses an equation from InVEST Manual\n",
    "## ETo or reference evapotranspiration is not considered here because since the whole area has\n",
    "## only one value of ETo, it cancels out in the equation\n",
    "\n",
    "df_merged['CC'] = 0.6 * df_merged['shade'] + 0.2 * df_merged['albedo'] + 0.2 * df_merged['Kc']\n",
    "\n",
    "Ref_air_temp = 24   #Reference air temperature Tair,ref\n",
    "max_temp = 25.75\n",
    "uhi = max_temp -  Ref_air_temp\n",
    "\n",
    "df_merged['T_air'] = Ref_air_temp + (1-df_merged['CC']) * uhi\n",
    "print(df_merged)"
   ]
  },
  {
   "cell_type": "code",
   "execution_count": 23,
   "metadata": {},
   "outputs": [],
   "source": [
    "df_merged.to_csv(r'C:\\Users\\ABI\\OneDrive - NIVA\\Documents\\GitHub\\SWMM_MOO\\04_Urban_Cooling\\0401_UC_Input_Files\\LU_biophysicaltable_merged.csv', sep=';')"
   ]
  },
  {
   "cell_type": "code",
   "execution_count": 24,
   "metadata": {},
   "outputs": [
    {
     "name": "stdout",
     "output_type": "stream",
     "text": [
      "    SID       Temp\n",
      "0    S1  25.662150\n",
      "1   S10  25.557325\n",
      "2   S11  25.131550\n",
      "3    S2  25.662150\n",
      "4    S3  25.662150\n",
      "5    S4  25.662150\n",
      "6    S5  25.131550\n",
      "7    S6  25.131550\n",
      "8    S7  25.557325\n",
      "9    S8  25.131550\n",
      "10   S9  25.131550\n"
     ]
    }
   ],
   "source": [
    "## Now we are interested in finding the total CC in each subcatchment regardless of the landuse\n",
    "# Filter rows with non-zero Area\n",
    "df_filtered = df_merged[df_merged['Area'] > 0]\n",
    "df_total_temp = df_filtered.groupby('SID')['T_air'].mean().reset_index()\n",
    "df_total_temp.columns = ['SID', 'Temp']\n",
    "print(df_total_temp)"
   ]
  },
  {
   "cell_type": "markdown",
   "metadata": {},
   "source": [
    "**Running for each scenario**"
   ]
  },
  {
   "cell_type": "code",
   "execution_count": 25,
   "metadata": {},
   "outputs": [
    {
     "name": "stdout",
     "output_type": "stream",
     "text": [
      "    SID   Area\n",
      "33   S1  938.0\n",
      "34   S2  494.0\n",
      "35   S3  505.0\n",
      "36   S4  921.0\n",
      "37   S5    0.0\n",
      "38   S6    0.0\n",
      "39   S7    0.0\n",
      "40   S8    0.0\n",
      "41   S9    0.0\n",
      "42  S10    0.0\n",
      "43  S11    0.0\n"
     ]
    }
   ],
   "source": [
    "## Get the impervious and building areas for the base scenario for deducting later \n",
    "imp_base_areas = df_merged[df_merged['lu_name'] == 'IMP'][['SID', 'Area']].copy()\n",
    "bdg_base_areas = df_merged[df_merged['lu_name'] == 'BLDG'][['SID', 'Area']].copy()\n",
    "print(bdg_base_areas)\n"
   ]
  },
  {
   "cell_type": "code",
   "execution_count": 26,
   "metadata": {},
   "outputs": [
    {
     "name": "stdout",
     "output_type": "stream",
     "text": [
      "   Unnamed: 0  Type          S1  ...  S11_Type        S11    S11_Aimp\n",
      "0           1   GR5    0.000000  ...       TRE   0.000000  214.960412\n",
      "1           2  GR20    0.000000  ...        GS  30.094458  214.960412\n",
      "2           3  GR20  938.857898  ...        BC   2.149604  214.960412\n",
      "3           4  GR20  938.857898  ...        BC  30.094458  214.960412\n",
      "4           5   GR5  938.857898  ...       TRE  10.000000  204.960412\n",
      "\n",
      "[5 rows x 24 columns]\n",
      "                Kc  shade  albedo  green_area     T_air\n",
      "SID lu_name                                            \n",
      "S1  IMP      0.001      0    0.14           0  25.70065\n",
      "S2  IMP      0.001      0    0.14           0  25.70065\n",
      "S3  IMP      0.001      0    0.14           0  25.70065\n",
      "S4  IMP      0.001      0    0.14           0  25.70065\n",
      "S5  IMP      0.001      0    0.14           0  25.70065\n",
      "S6  IMP      0.001      0    0.14           0  25.70065\n",
      "S7  IMP      0.001      0    0.14           0  25.70065\n",
      "S8  IMP      0.001      0    0.14           0  25.70065\n",
      "S9  IMP      0.001      0    0.14           0  25.70065\n",
      "S10 IMP      0.001      0    0.14           0  25.70065\n",
      "S11 IMP      0.001      0    0.14           0  25.70065\n",
      "S1  SVEG     0.800      0    0.16           1  25.41400\n",
      "S2  SVEG     0.800      0    0.16           1  25.41400\n",
      "S3  SVEG     0.800      0    0.16           1  25.41400\n",
      "S4  SVEG     0.800      0    0.16           1  25.41400\n",
      "S5  SVEG     0.800      0    0.16           1  25.41400\n",
      "S6  SVEG     0.800      0    0.16           1  25.41400\n",
      "S7  SVEG     0.800      0    0.16           1  25.41400\n",
      "S8  SVEG     0.800      0    0.16           1  25.41400\n",
      "S9  SVEG     0.800      0    0.16           1  25.41400\n",
      "S10 SVEG     0.800      0    0.16           1  25.41400\n",
      "S11 SVEG     0.800      0    0.16           1  25.41400\n",
      "S1  DVEG     1.000      1    0.20           1  24.28000\n",
      "S2  DVEG     1.000      1    0.20           1  24.28000\n",
      "S3  DVEG     1.000      1    0.20           1  24.28000\n",
      "S4  DVEG     1.000      1    0.20           1  24.28000\n",
      "S5  DVEG     1.000      1    0.20           1  24.28000\n",
      "S6  DVEG     1.000      1    0.20           1  24.28000\n",
      "S7  DVEG     1.000      1    0.20           1  24.28000\n",
      "S8  DVEG     1.000      1    0.20           1  24.28000\n",
      "S9  DVEG     1.000      1    0.20           1  24.28000\n",
      "S10 DVEG     1.000      1    0.20           1  24.28000\n",
      "S11 DVEG     1.000      1    0.20           1  24.28000\n",
      "S1  BLDG     0.001      0    0.25           0  25.66215\n",
      "S2  BLDG     0.001      0    0.25           0  25.66215\n",
      "S3  BLDG     0.001      0    0.25           0  25.66215\n",
      "S4  BLDG     0.001      0    0.25           0  25.66215\n",
      "S5  BLDG     0.001      0    0.25           0  25.66215\n",
      "S6  BLDG     0.001      0    0.25           0  25.66215\n",
      "S7  BLDG     0.001      0    0.25           0  25.66215\n",
      "S8  BLDG     0.001      0    0.25           0  25.66215\n",
      "S9  BLDG     0.001      0    0.25           0  25.66215\n",
      "S10 BLDG     0.001      0    0.25           0  25.66215\n",
      "S11 BLDG     0.001      0    0.25           0  25.66215\n"
     ]
    }
   ],
   "source": [
    "# Load the data\n",
    "scenarios_df = pd.read_csv(r'C:\\Users\\ABI\\OneDrive - NIVA\\Documents\\GitHub\\SWMM_MOO\\01_Preprocessing\\0103_Data_cleaned_random_generated_scenarios.csv', sep = ';')\n",
    "biophy_sub_df = pd.read_csv(r'C:\\Users\\ABI\\OneDrive - NIVA\\Documents\\GitHub\\SWMM_MOO\\04_Urban_Cooling\\0401_UC_Input_Files\\LU_biophysicaltable_merged.csv', sep=';')\n",
    "print(scenarios_df.head())\n",
    "# print(biophy_sub_df.head())\n",
    "\n",
    "biophysical_lookup = biophy_sub_df.set_index(['SID', 'lu_name'])[['Kc','shade', 'albedo', 'green_area', 'T_air']]\n",
    "print(biophysical_lookup)\n",
    "# Subcatchment and LID column definitions\n",
    "lid_type_cols = ['S5_Type', 'S7_Type', 'S8_Type', 'S9_Type', 'S10_Type', 'S11_Type']\n",
    "lid_area_cols = ['S5', 'S7', 'S8', 'S9', 'S10', 'S11']\n",
    "lid_subs = ['S5', 'S7', 'S8', 'S9', 'S10', 'S11']\n",
    "subcatchments = ['S1', 'S2', 'S3', 'S4', 'S5', 'S6', 'S7', 'S8', 'S9', 'S10', 'S11']\n",
    "\n"
   ]
  },
  {
   "cell_type": "code",
   "execution_count": null,
   "metadata": {},
   "outputs": [],
   "source": []
  },
  {
   "cell_type": "code",
   "execution_count": 28,
   "metadata": {},
   "outputs": [
    {
     "name": "stdout",
     "output_type": "stream",
     "text": [
      "            Kc  shade  albedo\n",
      "lu_name                      \n",
      "IMP      0.001      0    0.14\n",
      "SVEG     0.800      0    0.16\n",
      "DVEG     1.000      1    0.20\n",
      "BLDG     0.001      0    0.25\n",
      "GR5      0.500      0    0.16\n",
      "  SID lu_name   Area     T_air     Kc\n",
      "0  S1     IMP    0.0  25.70065  0.001\n",
      "1  S2     IMP    0.0  25.70065  0.001\n",
      "2  S3     IMP    0.0  25.70065  0.001\n",
      "3  S4     IMP    0.0  25.70065  0.001\n",
      "4  S5     IMP  259.0  25.70065  0.001\n",
      "                T_air\n",
      "SID lu_name          \n",
      "S1  IMP      25.70065\n",
      "S2  IMP      25.70065\n",
      "S3  IMP      25.70065\n",
      "S4  IMP      25.70065\n",
      "S5  IMP      25.70065\n",
      "Empty DataFrame\n",
      "Columns: [S1, S10, S11, S2, S3, S4, S5, S6, S7, S8, S9]\n",
      "Index: []\n"
     ]
    }
   ],
   "source": [
    "import pandas as pd\n",
    "\n",
    "# Load data\n",
    "scenarios_df = pd.read_csv(r'C:\\Users\\ABI\\OneDrive - NIVA\\Documents\\GitHub\\SWMM_MOO\\01_Preprocessing\\0103_Data_cleaned_random_generated_scenarios.csv', sep = ';')\n",
    "biophy_sub_df = pd.read_csv(r'C:\\Users\\ABI\\OneDrive - NIVA\\Documents\\GitHub\\SWMM_MOO\\04_Urban_Cooling\\0401_UC_Input_Files\\LU_biophysicaltable_merged.csv', sep=';')\n",
    "df_bio = pd.read_csv(r'C:\\Users\\ABI\\OneDrive - NIVA\\Documents\\GitHub\\SWMM_MOO\\04_Urban_Cooling\\0401_UC_Input_Files\\biophysicaltable_lid_added.csv', sep=';')\n",
    "\n",
    "# Setup\n",
    "bio_lookup = df_bio.set_index('lu_name')[['Kc', 'shade', 'albedo']] # biophysical lookup table\n",
    "base_lu = biophy_sub_df[['SID', 'lu_name', 'Area', 'T_air', 'Kc']]\n",
    "t_air_lookup = biophy_sub_df.set_index(['SID', 'lu_name'])[['T_air']]\n",
    "results = pd.DataFrame(columns=sorted(base_lu['SID'].unique()))\n",
    "\n",
    "# Constants\n",
    "ref_temp, max_temp = 24, 25.75 # reference air temperature, maximum air temperature in the area\n",
    "uhi = max_temp - ref_temp\n",
    "\n",
    "# Create function for computing the temperature after air mixing\n",
    "def compute_tair(lu): \n",
    "    cc = 0.6 * lu['shade'] + 0.2 * lu['albedo'] + 0.2 * lu['Kc']  # cooling capacity\n",
    "    return ref_temp + (1 - cc) * uhi\n",
    "\n",
    "# Create a function for adding the area , Kc and Tair of certain landuse to a dataframe\n",
    "def add_landuse(df, sid, lu_name, area):\n",
    "    props = bio_lookup.loc[lu_name]\n",
    "    t_air = compute_tair(props)\n",
    "    return pd.concat([df, pd.DataFrame([{'SID': sid, 'lu_name': lu_name, 'Area': area, 'Kc': props['Kc'], 'T_air': t_air}])])\n",
    "\n",
    "print(bio_lookup.head())\n",
    "print(base_lu.head())\n",
    "print(t_air_lookup.head())\n",
    "print(results)"
   ]
  },
  {
   "cell_type": "code",
   "execution_count": 29,
   "metadata": {},
   "outputs": [
    {
     "name": "stdout",
     "output_type": "stream",
     "text": [
      "         S1    S10    S11     S2     S3  ...     S6     S7     S8     S9   Mean\n",
      "Sim0  25.66  25.66  25.65  25.66  25.66  ...  25.21  25.68  25.62  25.65  25.60\n",
      "Sim1  25.66  25.65  25.63  25.66  25.66  ...  25.21  25.61  25.59  25.63  25.57\n",
      "Sim2  25.48  25.65  25.65  25.66  25.66  ...  25.21  25.68  25.59  25.64  25.57\n",
      "Sim3  25.48  25.63  25.63  25.48  25.66  ...  25.21  25.68  25.62  25.63  25.57\n",
      "Sim4  25.52  25.56  25.62  25.66  25.66  ...  25.21  25.67  25.60  25.64  25.58\n",
      "\n",
      "[5 rows x 12 columns]\n"
     ]
    }
   ],
   "source": [
    "# Simulation\n",
    "for idx, row in scenarios_df.iloc[:].iterrows():\n",
    "    sim_df = base_lu.copy()\n",
    "    gr_type = row['Type']\n",
    "\n",
    "    # Add green roof areas into the model\n",
    "    for sid in ['S1', 'S2', 'S3', 'S4']:                   # Going through roof subcatchments\n",
    "        gr_area = float(row.get(sid, 0) or 0)              # Get area of green roof from scenario\n",
    "        if gr_type in bio_lookup.index and gr_area > 0:    # if green roof type is in the biophysical lookup table and is greater than 0\n",
    "            mask = (sim_df['SID'] == sid) & (sim_df['lu_name'] == 'BLDG') # selects rows that match the condition\n",
    "            if not sim_df[mask].empty:                     # If there is at least one row with building\n",
    "                area = sim_df.loc[mask, 'Area'].values[0]  # Take the area value from the building area from base scenario dataframe\n",
    "                sim_df = sim_df.drop(sim_df[mask].index)   # Removes the row with building from the base scenario \n",
    "                sim_df = add_landuse(sim_df, sid, gr_type, area) # Adds a row with green roof - uses functions that includes calculation of Tair\n",
    "\n",
    "    # Apply LIDs to S5–S11\n",
    "    for sid, lid_col, area_col in zip(['S5', 'S7', 'S8', 'S9', 'S10', 'S11'],\n",
    "                                      ['S5_Type', 'S7_Type', 'S8_Type', 'S9_Type', 'S10_Type', 'S11_Type'],\n",
    "                                      ['S5', 'S7', 'S8', 'S9', 'S10', 'S11']):\n",
    "        lid_type = row[lid_col]                            # Get the type of LID from scenario\n",
    "        lid_area = float(row.get(area_col, 0) or 0)        # Get the area of LID from scenario  \n",
    "        if lid_type in bio_lookup.index and lid_area > 0:   \n",
    "            sim_df = add_landuse(sim_df, sid, lid_type, lid_area)  # Add the landuse in the dataframe \n",
    "            imp_mask = (sim_df['SID'] == sid) & (sim_df['lu_name'] == 'IMP') # Get the row containing impervious surface\n",
    "            sim_df.loc[imp_mask, 'Area'] -= lid_area               # Deduct the LID area added from the impervious area\n",
    "\n",
    "\n",
    "    # Weighted mean temperature\n",
    "    weighted = (sim_df['T_air'] * sim_df['Area']).groupby(sim_df['SID']).sum() / sim_df.groupby('SID')['Area'].sum()\n",
    "    weighted = weighted.round(2)\n",
    "    results.loc[f\"Sim{idx}\"] = weighted.round(2)\n",
    "    results['Mean'] = results.mean(axis=1).round(2)\n",
    "    \n",
    "\n",
    "# Show result\n",
    "print(results.head())\n"
   ]
  },
  {
   "cell_type": "code",
   "execution_count": 31,
   "metadata": {},
   "outputs": [],
   "source": [
    "results.to_csv(r'C:\\Users\\ABI\\OneDrive - NIVA\\Documents\\GitHub\\SWMM_MOO\\04_Urban_Cooling\\0403_Temp_diff_results.csv', sep =';')"
   ]
  },
  {
   "cell_type": "code",
   "execution_count": null,
   "metadata": {},
   "outputs": [],
   "source": []
  }
 ],
 "metadata": {
  "kernelspec": {
   "display_name": "ArcGISPro",
   "language": "Python",
   "name": "python3"
  },
  "language_info": {
   "file_extension": ".py",
   "name": "python",
   "version": "3"
  }
 },
 "nbformat": 4,
 "nbformat_minor": 2
}
