{
 "cells": [
  {
   "cell_type": "markdown",
   "metadata": {},
   "source": [
    "# Urban Cooling using InVEST"
   ]
  },
  {
   "cell_type": "markdown",
   "metadata": {},
   "source": [
    "**Data needs:**\n",
    "1. Land use raster\n",
    "2. Biophysical table (csv)\n",
    "3. Reference evapotranspiration (raster)\n",
    "4. Area of interest (vector)\n",
    "5. Maximum cooling distance (m)\n",
    "6. Reference air temperature (B0C)\n",
    "7. Urban Heat Index (UHI)\n",
    "8. Air Blending distance (m)"
   ]
  },
  {
   "cell_type": "markdown",
   "metadata": {},
   "source": [
    "**Initializing**"
   ]
  },
  {
   "cell_type": "code",
   "execution_count": 3,
   "metadata": {},
   "outputs": [],
   "source": [
    "# Import modules\n",
    "import arcpy\n",
    "from arcpy.sa import *\n",
    "arcpy.env.overwriteOutput = True"
   ]
  },
  {
   "cell_type": "code",
   "execution_count": 6,
   "metadata": {},
   "outputs": [],
   "source": [
    "# Set environment settings\n",
    "arcpy.env.workspace = r\"C:\\Users\\ABI\\OneDrive - NIVA\\PhD_Work\\Work\\PartII\\Loren\""
   ]
  },
  {
   "cell_type": "code",
   "execution_count": 7,
   "metadata": {},
   "outputs": [],
   "source": [
    "# Data imports\n",
    "subcat = \"C:\\\\Users\\\\ABI\\\\OneDrive - NIVA\\\\PhD_Work\\\\Work\\\\PartII\\\\Loren\\\\Data\\\\subcat_poly.shp\"\n",
    "landuse = Raster(\"C:\\\\Users\\\\ABI\\\\OneDrive - NIVA\\\\PhD_Work\\\\Work\\\\PartII\\\\Loren\\\\Data\\\\Landcover.tif\")"
   ]
  },
  {
   "cell_type": "markdown",
   "metadata": {},
   "source": [
    "**Pre-processing**"
   ]
  },
  {
   "cell_type": "code",
   "execution_count": 8,
   "metadata": {},
   "outputs": [
    {
     "data": {
      "text/html": [
       "<div class='gpresult'><h2>Messages</h2><div id='messages' data-messages='[\"Start Time: onsdag 2. april 2025 12:03:40\",\"Sorting Attributes...\",\"Dissolving...\",\"Succeeded at onsdag 2. april 2025 12:03:42 (Elapsed Time: 1,43 seconds)\"]' data-show='true'><div id = 'default' /></div></div>"
      ],
      "text/plain": [
       "<Result 'C:\\\\Users\\\\ABI\\\\OneDrive - NIVA\\\\PhD_Work\\\\Work\\\\PartII\\\\Loren\\\\LorenGIS.gdb\\\\subcat_boundary'>"
      ]
     },
     "execution_count": 8,
     "metadata": {},
     "output_type": "execute_result"
    }
   ],
   "source": [
    "# Create boundary of shapefile\n",
    "subcat_bdy = \"C:\\\\Users\\\\ABI\\\\OneDrive - NIVA\\\\PhD_Work\\\\Work\\\\PartII\\\\Loren\\\\LorenGIS.gdb\\\\subcat_boundary\"\n",
    "arcpy.management.Dissolve(subcat, subcat_bdy,[\"FID\"],\"\",\"SINGLE_PART\",\"DISSOLVE_LINES\")"
   ]
  },
  {
   "cell_type": "markdown",
   "metadata": {},
   "source": [
    "Here, I am calculating the values for a buffer area of 100 m, which is an assumption of maximum cooling distance. The reason for doing this is that entities such as urban cooling is highly dependent on the surrounding few meters. There may be a difference in opinion in this case, since while calculating runoff, we are not consdering inflow runoff from the surrounding, instead we focus only an influx from the rainfall. However, I think the influence of the surrounding is much more prominent for these socioenvironmental variables, and they should be considereed. \n",
    "Cooling distance recommended by InVEST Mnaual is 450m , but (Zawadzka et al., 2021) found that this distance overestimates the influence of greenspaces in urban areas. Therefore, they recommend 100m.  Denser urban areas require shorter coolking distance.\n",
    "This article also suggests that InVEST is not a good choice for small scale urban areas modelling. I will nevertheless be using it in this case. "
   ]
  },
  {
   "cell_type": "code",
   "execution_count": 9,
   "metadata": {},
   "outputs": [
    {
     "data": {
      "text/html": [
       "<div class='gpresult'><h2>Messages</h2><div id='messages' data-messages='[\"Start Time: onsdag 2. april 2025 12:03:45\",\"Succeeded at onsdag 2. april 2025 12:03:49 (Elapsed Time: 3,28 seconds)\"]' data-show='true'><div id = 'default' /></div></div>"
      ],
      "text/plain": [
       "<Result 'C:\\\\Users\\\\ABI\\\\OneDrive - NIVA\\\\PhD_Work\\\\Work\\\\PartII\\\\Loren\\\\LorenGIS.gdb\\\\subcat_buffer'>"
      ]
     },
     "execution_count": 9,
     "metadata": {},
     "output_type": "execute_result"
    }
   ],
   "source": [
    "# Creating 400 m buffer of the boundary\n",
    "subcat_buffer = \"C:\\\\Users\\\\ABI\\\\OneDrive - NIVA\\\\PhD_Work\\\\Work\\\\PartII\\\\Loren\\\\LorenGIS.gdb\\\\subcat_buffer\"\n",
    "arcpy.analysis.Buffer(subcat_bdy, subcat_buffer,\"100 Meters\",\"FULL\",\"ROUND\",\"ALL\")"
   ]
  },
  {
   "cell_type": "markdown",
   "metadata": {},
   "source": [
    "**1.Landuse**"
   ]
  },
  {
   "cell_type": "code",
   "execution_count": 10,
   "metadata": {},
   "outputs": [],
   "source": [
    "# Clipping landuse to buffer area\n",
    "landuse_clipped = ExtractByMask(landuse, subcat_buffer )\n",
    "\n",
    "# Save the output\n",
    "#landuse_clipped.save(\"C:\\\\Users\\\\ABI\\\\OneDrive - NIVA\\\\PhD_Work\\\\Work\\\\PartII\\\\Loren\\\\LorenGIS.gdb\\\\landuse_clip\")"
   ]
  },
  {
   "cell_type": "markdown",
   "metadata": {},
   "source": [
    "**2. Biophysical Table**"
   ]
  },
  {
   "cell_type": "markdown",
   "metadata": {},
   "source": [
    "*Crop coefficient (Kc):*\n",
    "<br> Deep vegetation = 1 (Source: Kc calculator in InVEST Manual shows 1 to 1.2 for forests, FAO document)\n",
    "<br> Shallow vegetation = 0.8 (Source: Assumed from InVEST Manual)\n",
    "<br> Bare Soil = 0.2 (if actively growing, put higher)\n",
    "<br> Unpaved road = 0.1\n",
    "<br> Built areas = 0.001 (In InVEST Manual, recommended is to use f*0.1 +(1-f)*0.6, here impervious percent f is 0.72, so Kc is 0.24. This is a high value, so here a almost negligible value is used as also done by Zawadzka 2021.)\n"
   ]
  },
  {
   "cell_type": "markdown",
   "metadata": {},
   "source": [
    "*Albedo*\n",
    "<br> Buildings = 0.25 (Source: Zawadzka 2021)\n",
    "<br> Shallow vegetation = 0.16 (Source: Zawadzka 2021)\n",
    "<br> Deep vegetation = 0.2 (Source: Zawadzka 2021)\n",
    "<br> Paved road = 0.14 (Source: Zawadzka 2021)\n",
    "<br> Bare soil = 0.17 (Source: Markvart)\n",
    "<br> Unpaved road = 0.2 \n",
    "<br> Bare rock = 0.2 "
   ]
  },
  {
   "cell_type": "code",
   "execution_count": 11,
   "metadata": {},
   "outputs": [
    {
     "name": "stdout",
     "output_type": "stream",
     "text": [
      "   lucode     Kc  green_area  shade  albedo\n",
      "0       1  0.200           0      0    0.17\n",
      "1       3  0.001           0      0    0.14\n",
      "2       6  0.800           1      0    0.16\n",
      "3       7  1.000           1      1    0.20\n",
      "4       9  0.001           0      0    0.14\n",
      "5      15  0.001           0      0    0.20\n",
      "6      16  0.001           0      0    0.25\n"
     ]
    }
   ],
   "source": [
    "# Create a dataframe for biophysiscal table\n",
    "import pandas as pd\n",
    "columns = ['lucode', 'Kc', 'green_area', 'shade', 'albedo']\n",
    "data = [(1,0.2,0,0,0.17),(3,0.001,0,0,0.14), (6,0.8,1,0,0.16), (7,1,1,1,0.2), (9,0.001,0,0,0.14), (15,0.001,0,0,0.2), (16,0.001,0,0,0.25)]\n",
    "df = pd.DataFrame(data, columns=columns)\n",
    "print(df)\n",
    "df.to_csv(r'C:\\Users\\ABI\\OneDrive - NIVA\\PhD_Work\\Work\\PartII\\Loren\\InVEST\\UrbanCooling\\BiophysicalTable.csv', index=False, sep = ';') "
   ]
  },
  {
   "cell_type": "markdown",
   "metadata": {},
   "source": [
    "**3. Reference evapotranspiration**"
   ]
  },
  {
   "cell_type": "markdown",
   "metadata": {},
   "source": [
    "Reference evapotranspiration, ETb