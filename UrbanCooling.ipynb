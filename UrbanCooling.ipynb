{
 "cells": [
  {
   "cell_type": "markdown",
   "metadata": {},
   "source": [
    "# Urban Cooling using InVEST"
   ]
  },
  {
   "cell_type": "markdown",
   "metadata": {},
   "source": [
    "**Data needs:**\n",
    "1. Land use raster\n",
    "2. Biophysical table (csv)\n",
    "3. Reference evapotranspiration (raster)\n",
    "4. Area of interest (vector)\n",
    "5. Maximum cooling distance (m)\n",
    "6. Reference air temperature (°C)\n",
    "7. Urban Heat Index (UHI)\n",
    "8. Air Blending distance (m)"
   ]
  },
  {
   "cell_type": "markdown",
   "metadata": {},
   "source": [
    "**Initializing**"
   ]
  },
  {
   "cell_type": "code",
   "execution_count": 3,
   "metadata": {},
   "outputs": [],
   "source": [
    "# Import modules\n",
    "import arcpy\n",
    "from arcpy.sa import *\n",
    "arcpy.env.overwriteOutput = True"
   ]
  },
  {
   "cell_type": "code",
   "execution_count": 6,
   "metadata": {},
   "outputs": [],
   "source": [
    "# Set environment settings\n",
    "arcpy.env.workspace = r\"C:\\Users\\ABI\\OneDrive - NIVA\\PhD_Work\\Work\\PartII\\Loren\""
   ]
  },
  {
   "cell_type": "code",
   "execution_count": 7,
   "metadata": {},
   "outputs": [],
   "source": [
    "# Data imports\n",
    "subcat = \"C:\\\\Users\\\\ABI\\\\OneDrive - NIVA\\\\PhD_Work\\\\Work\\\\PartII\\\\Loren\\\\Data\\\\subcat_poly.shp\"\n",
    "landuse = Raster(\"C:\\\\Users\\\\ABI\\\\OneDrive - NIVA\\\\PhD_Work\\\\Work\\\\PartII\\\\Loren\\\\Data\\\\Landcover.tif\")"
   ]
  },
  {
   "cell_type": "markdown",
   "metadata": {},
   "source": [
    "**Pre-processing**"
   ]
  },
  {
   "cell_type": "code",
   "execution_count": 8,
   "metadata": {},
   "outputs": [
    {
     "data": {
      "text/html": [
       "<div class='gpresult'><h2>Messages</h2><div id='messages' data-messages='[\"Start Time: onsdag 2. april 2025 12:03:40\",\"Sorting Attributes...\",\"Dissolving...\",\"Succeeded at onsdag 2. april 2025 12:03:42 (Elapsed Time: 1,43 seconds)\"]' data-show='true'><div id = 'default' /></div></div>"
      ],
      "text/plain": [
       "<Result 'C:\\\\Users\\\\ABI\\\\OneDrive - NIVA\\\\PhD_Work\\\\Work\\\\PartII\\\\Loren\\\\LorenGIS.gdb\\\\subcat_boundary'>"
      ]
     },
     "execution_count": 8,
     "metadata": {},
     "output_type": "execute_result"
    }
   ],
   "source": [
    "# Create boundary of shapefile\n",
    "subcat_bdy = \"C:\\\\Users\\\\ABI\\\\OneDrive - NIVA\\\\PhD_Work\\\\Work\\\\PartII\\\\Loren\\\\LorenGIS.gdb\\\\subcat_boundary\"\n",
    "arcpy.management.Dissolve(subcat, subcat_bdy,[\"FID\"],\"\",\"SINGLE_PART\",\"DISSOLVE_LINES\")"
   ]
  },
  {
   "cell_type": "markdown",
   "metadata": {},
   "source": [
    "Here, I am calculating the values for a buffer area of 100 m, which is an assumption of maximum cooling distance. The reason for doing this is that entities such as urban cooling is highly dependent on the surrounding few meters. There may be a difference in opinion in this case, since while calculating runoff, we are not consdering inflow runoff from the surrounding, instead we focus only an influx from the rainfall. However, I think the influence of the surrounding is much more prominent for these socioenvironmental variables, and they should be considereed. \n",
    "Cooling distance recommended by InVEST Mnaual is 450m , but (Zawadzka et al., 2021) found that this distance overestimates the influence of greenspaces in urban areas. Therefore, they recommend 100m.  Denser urban areas require shorter coolking distance.\n",
    "This article also suggests that InVEST is not a good choice for small scale urban areas modelling. I will nevertheless be using it in this case. "
   ]
  },
  {
   "cell_type": "code",
   "execution_count": 9,
   "metadata": {},
   "outputs": [
    {
     "data": {
      "text/html": [
       "<div class='gpresult'><h2>Messages</h2><div id='messages' data-messages='[\"Start Time: onsdag 2. april 2025 12:03:45\",\"Succeeded at onsdag 2. april 2025 12:03:49 (Elapsed Time: 3,28 seconds)\"]' data-show='true'><div id = 'default' /></div></div>"
      ],
      "text/plain": [
       "<Result 'C:\\\\Users\\\\ABI\\\\OneDrive - NIVA\\\\PhD_Work\\\\Work\\\\PartII\\\\Loren\\\\LorenGIS.gdb\\\\subcat_buffer'>"
      ]
     },
     "execution_count": 9,
     "metadata": {},
     "output_type": "execute_result"
    }
   ],
   "source": [
    "# Creating 400 m buffer of the boundary\n",
    "subcat_buffer = \"C:\\\\Users\\\\ABI\\\\OneDrive - NIVA\\\\PhD_Work\\\\Work\\\\PartII\\\\Loren\\\\LorenGIS.gdb\\\\subcat_buffer\"\n",
    "arcpy.analysis.Buffer(subcat_bdy, subcat_buffer,\"100 Meters\",\"FULL\",\"ROUND\",\"ALL\")"
   ]
  },
  {
   "cell_type": "markdown",
   "metadata": {},
   "source": [
    "**1.Landuse**"
   ]
  },
  {
   "cell_type": "code",
   "execution_count": 10,
   "metadata": {},
   "outputs": [],
   "source": [
    "# Clipping landuse to buffer area\n",
    "landuse_clipped = ExtractByMask(landuse, subcat_buffer )\n",
    "\n",
    "# Save the output\n",
    "#landuse_clipped.save(\"C:\\\\Users\\\\ABI\\\\OneDrive - NIVA\\\\PhD_Work\\\\Work\\\\PartII\\\\Loren\\\\LorenGIS.gdb\\\\landuse_clip\")"
   ]
  },
  {
   "cell_type": "markdown",
   "metadata": {},
   "source": [
    "**2. Biophysical Table**"
   ]
  },
  {
   "cell_type": "markdown",
   "metadata": {},
   "source": [
    "*Crop coefficient (Kc):*\n",
    "<br> Deep vegetation = 1 (Source: Kc calculator in InVEST Manual shows 1 to 1.2 for forests, FAO document)\n",
    "<br> Shallow vegetation = 0.8 (Source: Assumed from InVEST Manual)\n",
    "<br> Bare Soil = 0.2 (if actively growing, put higher)\n",
    "<br> Unpaved road = 0.1\n",
    "<br> Built areas = 0.001 (In InVEST Manual, recommended is to use f*0.1 +(1-f)*0.6, here impervious percent f is 0.72, so Kc is 0.24. This is a high value, so here a almost negligible value is used as also done by Zawadzka 2021.)\n"
   ]
  },
  {
   "cell_type": "markdown",
   "metadata": {},
   "source": [
    "*Albedo*\n",
    "<br> Buildings = 0.25 (Source: Zawadzka 2021)\n",
    "<br> Shallow vegetation = 0.16 (Source: Zawadzka 2021)\n",
    "<br> Deep vegetation = 0.2 (Source: Zawadzka 2021)\n",
    "<br> Paved road = 0.14 (Source: Zawadzka 2021)\n",
    "<br> Bare soil = 0.17 (Source: Markvart)\n",
    "<br> Unpaved road = 0.2 \n",
    "<br> Bare rock = 0.2 "
   ]
  },
  {
   "cell_type": "code",
   "execution_count": 11,
   "metadata": {},
   "outputs": [
    {
     "name": "stdout",
     "output_type": "stream",
     "text": [
      "   lucode     Kc  green_area  shade  albedo\n",
      "0       1  0.200           0      0    0.17\n",
      "1       3  0.001           0      0    0.14\n",
      "2       6  0.800           1      0    0.16\n",
      "3       7  1.000           1      1    0.20\n",
      "4       9  0.001           0      0    0.14\n",
      "5      15  0.001           0      0    0.20\n",
      "6      16  0.001           0      0    0.25\n"
     ]
    }
   ],
   "source": [
    "# Create a dataframe for biophysiscal table\n",
    "import pandas as pd\n",
    "columns = ['lucode', 'Kc', 'green_area', 'shade', 'albedo']\n",
    "data = [(1,0.2,0,0,0.17),(3,0.001,0,0,0.14), (6,0.8,1,0,0.16), (7,1,1,1,0.2), (9,0.001,0,0,0.14), (15,0.001,0,0,0.2), (16,0.001,0,0,0.25)]\n",
    "df = pd.DataFrame(data, columns=columns)\n",
    "print(df)\n",
    "df.to_csv(r'C:\\Users\\ABI\\OneDrive - NIVA\\PhD_Work\\Work\\PartII\\Loren\\InVEST\\UrbanCooling\\BiophysicalTable.csv', index=False, sep = ';') "
   ]
  },
  {
   "cell_type": "markdown",
   "metadata": {},
   "source": [
    "**3. Reference evapotranspiration**"
   ]
  },
  {
   "cell_type": "markdown",
   "metadata": {},
   "source": [
    "Reference evapotranspiration, ET₀, measures the amount of water that vaporizes from land into the air over a given period of time. It is typically expressed as a depth of water in millimeters per unit time.You can calculate reference ET by developing monthly average grids of precipitation, and maximum and minimum temperatures. A simple way to determine reference evapotranspiration is the ‘modified Hargreaves’ equation (Droogers and Allen, 2002), which generates superior results than the Pennman-Montieth when information is uncertain (InVEST Manual).\n",
    "The ‘modified Hargreaves’ method uses the average of the mean daily maximum and mean daily minimum temperatures for each month (Tavg in degrees Celsius), the difference between mean daily maximum and mean daily minimums for each month (TD), extraterrestrial radiation (RA in MJm-2d-1) and average monthly precipitation (in mm per month), all of which can be relatively easily obtained."
   ]
  },
  {
   "cell_type": "markdown",
   "metadata": {},
   "source": [
    "Data was taken from the Nordic gridded temperature and precipitation data from cds.climate.copernicus.eu. Taking an average from many years and months would be better, but here for simplicity, the day with the highest temperature in 2023, June 27th, was taken as a reference. Only max, min temperatures, and precipitation grids from that day was extracted. "
   ]
  },
  {
   "cell_type": "markdown",
   "metadata": {},
   "source": [
    "The data is in the form of netcdf layer, that has to be first converted into a raster, projected to the current coordinate system, and then clipped to the boundary."
   ]
  },
  {
   "cell_type": "code",
   "execution_count": 4,
   "metadata": {},
   "outputs": [],
   "source": [
    "import os\n",
    "import arcpy\n",
    "from arcpy.sa import ExtractByMask\n",
    "\n",
    "# Check out Spatial Analyst\n",
    "arcpy.CheckOutExtension(\"Spatial\")\n",
    "\n",
    "# Boundary slightly larger than pixel\n",
    "pixel_bdy = r\"C:\\Users\\ABI\\OneDrive - NIVA\\PhD_Work\\Work\\PartII\\Loren\\LorenGIS.gdb\\pixelboundary\"\n",
    "\n",
    "# Input NetCDFs\n",
    "RR_nc = r\"C:\\Users\\ABI\\OneDrive - NIVA\\PhD_Work\\Work\\PartII\\Loren\\Data\\NGCD_RR_type2_version_24.09_20230627.nc\"\n",
    "TN_nc = r\"C:\\Users\\ABI\\OneDrive - NIVA\\PhD_Work\\Work\\PartII\\Loren\\Data\\NGCD_TN_type2_version_24.09_20230627.nc\"\n",
    "TX_nc = r\"C:\\Users\\ABI\\OneDrive - NIVA\\PhD_Work\\Work\\PartII\\Loren\\Data\\NGCD_TX_type2_version_24.09_20230627.nc\"\n",
    "\n",
    "# Output Geodatabase\n",
    "gdb_path = r\"C:\\Users\\ABI\\OneDrive - NIVA\\PhD_Work\\Work\\PartII\\Loren\\LorenGIS.gdb\"\n",
    "\n",
    "# Get projection from existing feature class\n",
    "sr = arcpy.Describe(os.path.join(gdb_path, 'pixelboundary')).spatialReference\n",
    "\n",
    "# Process each variable\n",
    "for nc, var in zip((RR_nc, TN_nc, TX_nc), (\"RR\", \"TN\", \"TX\")):\n",
    "    out_layer = f\"{var}_layer\"\n",
    "    temp_raster = os.path.join(gdb_path, f\"{var}_temp\")\n",
    "    proj_raster = os.path.join(gdb_path, f\"{var}_proj\")\n",
    "    final_raster = os.path.join(gdb_path, f\"{var}_masked\")\n",
    "    \n",
    "    # Step 1: Create raster layer from NetCDF\n",
    "    arcpy.md.MakeNetCDFRasterLayer(\n",
    "        in_netCDF_file=nc,\n",
    "        variable=var,\n",
    "        x_dimension=\"X\",\n",
    "        y_dimension=\"Y\",\n",
    "        out_raster_layer=out_layer\n",
    "    )\n",
    "    \n",
    "    # Step 2: Save raster layer as a permanent raster\n",
    "    arcpy.management.CopyRaster(out_layer, temp_raster)\n",
    "    \n",
    "    # Step 3: Project raster to desired coordinate system\n",
    "    arcpy.management.ProjectRaster(temp_raster, proj_raster, sr)\n",
    "\n",
    "    # Step 4: Extract by pixel boundary using projected raster\n",
    "    masked = ExtractByMask(proj_raster, pixel_bdy)\n",
    "    \n",
    "    # Step 5: Save final masked raster\n",
    "    masked.save(final_raster)\n"
   ]
  },
  {
   "cell_type": "markdown",
   "metadata": {},
   "source": [
    "Here, since it is a small area, the value is the same for the whole area. We still require a gridded data, therefore this whole operation was necessary.\n",
    "Now, the modified Hargreaves’ equation (Droogers and Allen, 2002) as suggested by InVEST Manual was used to obtain the reference evapotranspiration."
   ]
  },
  {
   "cell_type": "code",
   "execution_count": 10,
   "metadata": {},
   "outputs": [],
   "source": [
    "# Get the rasters for further calculations\n",
    "# The values \n",
    "P = Raster(os.path.join(gdb_path,'RR_masked'))                 # Precipitation\n",
    "TN_ras = Raster(os.path.join(gdb_path,'TN_masked')) - 273      # Minimum daily temperature\n",
    "TX_ras = Raster(os.path.join(gdb_path,'TX_masked')) - 273      #Maximum daily temperature\n",
    "\n",
    "Tavg = (TN_ras + TX_ras)/2   # Tavg – the average of the daily minimum and daily maximum temperatures [°C]\n",
    "TD = TX_ras - TN_ras         # TD – the difference between daily maximum and mean daily minimum temperatures [°C]\n",
    "RA = 41.6                    # Extra-terrestrial radiation, estimated as 41.6 MJm-2d-1 (Zawadzka 2021)\n",
    "\n",
    "# Reference evapotranspiration\n",
    "ETo = 0.0013 * 0.408 * RA * (Tavg + 17) * (TD - 0.0123 * P)**0.76\n",
    "ETo.save(os.path.join(gdb_path,'reference_ET'))"
   ]
  },
  {
   "cell_type": "markdown",
   "metadata": {},
   "source": [
    "The reference evapotranspiration fro the study area was 5.03 mm/d."
   ]
  },
  {
   "cell_type": "markdown",
   "metadata": {},
   "source": [
    "**4. Area of interest**"
   ]
  },
  {
   "cell_type": "code",
   "execution_count": 12,
   "metadata": {},
   "outputs": [],
   "source": [
    "AOI = \"C:\\\\Users\\\\ABI\\\\OneDrive - NIVA\\\\PhD_Work\\\\Work\\\\PartII\\\\Loren\\\\LorenGIS.gdb\\\\subcat_buffer\""
   ]
  },
  {
   "cell_type": "markdown",
   "metadata": {},
   "source": [
    "**5. Maximum cooling distance**"
   ]
  },
  {
   "cell_type": "code",
   "execution_count": 14,
   "metadata": {},
   "outputs": [],
   "source": [
    "Max_cool_dist = 100 # Assumed to be 100 m for dense urban setting"
   ]
  },
  {
   "cell_type": "markdown",
   "metadata": {},
   "source": [
    "**6. Reference air temperature**"
   ]
  },
  {
   "cell_type": "markdown",
   "metadata": {},
   "source": [
    "Air temperature in a rural reference area where the urban heat island effect is not observed. A forested region above Årvoll was selected and the maximum temperature for that was around 24°C. "
   ]
  },
  {
   "cell_type": "code",
   "execution_count": 16,
   "metadata": {},
   "outputs": [],
   "source": [
    "Ref_air_temp = 24"
   ]
  },
  {
   "cell_type": "markdown",
   "metadata": {},
   "source": [
    "**7. UHI Effect**"
   ]
  },
  {
   "cell_type": "markdown",
   "metadata": {},
   "source": [
    "The magnitude of the urban heat island effect, i.e., the difference between the rural reference temperature and the maximum temperature observed in the city."
   ]
  },
  {
   "cell_type": "code",
   "execution_count": 18,
   "metadata": {},
   "outputs": [],
   "source": [
    "max_temp = 25.75\n",
    "uhi = max_temp -  Ref_air_temp"
   ]
  },
  {
   "cell_type": "markdown",
   "metadata": {},
   "source": [
    "**8. Air blending distance**"
   ]
  },
  {
   "cell_type": "markdown",
   "metadata": {},
   "source": [
    "InVest Manual has suggested 500 to 600 m. Theses suggestions usually are for large scale regions, that are necessarily not urban areas. Since maximum cooling distance was decreased for urban areas according to the recommendation of Zawadazka 2021, the air blending distance is also assumed to be lesser than 500 m."
   ]
  },
  {
   "cell_type": "code",
   "execution_count": 20,
   "metadata": {},
   "outputs": [],
   "source": [
    "air_bl_dist = 300"
   ]
  },
  {
   "cell_type": "code",
   "execution_count": null,
   "metadata": {},
   "outputs": [],
   "source": []
  }
 ],
 "metadata": {
  "kernelspec": {
   "display_name": "ArcGISPro",
   "language": "Python",
   "name": "python3"
  },
  "language_info": {
   "file_extension": ".py",
   "name": "python",
   "version": "3"
  }
 },
 "nbformat": 4,
 "nbformat_minor": 2
}
